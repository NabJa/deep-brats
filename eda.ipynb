{
 "cells": [
  {
   "cell_type": "code",
   "execution_count": 2,
   "metadata": {},
   "outputs": [],
   "source": [
    "from pathlib import Path\n",
    "import pandas as pd\n",
    "import h5py"
   ]
  },
  {
   "cell_type": "code",
   "execution_count": 7,
   "metadata": {},
   "outputs": [],
   "source": [
    "meta_data = pd.read_csv(Path(\"data/BraTS2020_training_data/meta_data.csv\"))\n",
    "name_mapping = pd.read_csv(Path(\"data/BraTS2020_training_data/name_mapping.csv\"))\n",
    "survival_info = pd.read_csv(Path(\"data/BraTS2020_training_data/survival_info.csv\"))"
   ]
  },
  {
   "cell_type": "code",
   "execution_count": 8,
   "metadata": {},
   "outputs": [
    {
     "data": {
      "text/html": [
       "<div>\n",
       "<style scoped>\n",
       "    .dataframe tbody tr th:only-of-type {\n",
       "        vertical-align: middle;\n",
       "    }\n",
       "\n",
       "    .dataframe tbody tr th {\n",
       "        vertical-align: top;\n",
       "    }\n",
       "\n",
       "    .dataframe thead th {\n",
       "        text-align: right;\n",
       "    }\n",
       "</style>\n",
       "<table border=\"1\" class=\"dataframe\">\n",
       "  <thead>\n",
       "    <tr style=\"text-align: right;\">\n",
       "      <th></th>\n",
       "      <th>slice_path</th>\n",
       "      <th>target</th>\n",
       "      <th>volume</th>\n",
       "      <th>slice</th>\n",
       "    </tr>\n",
       "  </thead>\n",
       "  <tbody>\n",
       "    <tr>\n",
       "      <th>0</th>\n",
       "      <td>/content/data/volume_41_slice_0.h5</td>\n",
       "      <td>0</td>\n",
       "      <td>41</td>\n",
       "      <td>0</td>\n",
       "    </tr>\n",
       "    <tr>\n",
       "      <th>1</th>\n",
       "      <td>/content/data/volume_41_slice_1.h5</td>\n",
       "      <td>0</td>\n",
       "      <td>41</td>\n",
       "      <td>1</td>\n",
       "    </tr>\n",
       "    <tr>\n",
       "      <th>2</th>\n",
       "      <td>/content/data/volume_41_slice_2.h5</td>\n",
       "      <td>0</td>\n",
       "      <td>41</td>\n",
       "      <td>2</td>\n",
       "    </tr>\n",
       "    <tr>\n",
       "      <th>3</th>\n",
       "      <td>/content/data/volume_41_slice_3.h5</td>\n",
       "      <td>0</td>\n",
       "      <td>41</td>\n",
       "      <td>3</td>\n",
       "    </tr>\n",
       "    <tr>\n",
       "      <th>4</th>\n",
       "      <td>/content/data/volume_41_slice_4.h5</td>\n",
       "      <td>0</td>\n",
       "      <td>41</td>\n",
       "      <td>4</td>\n",
       "    </tr>\n",
       "  </tbody>\n",
       "</table>\n",
       "</div>"
      ],
      "text/plain": [
       "                           slice_path  target  volume  slice\n",
       "0  /content/data/volume_41_slice_0.h5       0      41      0\n",
       "1  /content/data/volume_41_slice_1.h5       0      41      1\n",
       "2  /content/data/volume_41_slice_2.h5       0      41      2\n",
       "3  /content/data/volume_41_slice_3.h5       0      41      3\n",
       "4  /content/data/volume_41_slice_4.h5       0      41      4"
      ]
     },
     "execution_count": 8,
     "metadata": {},
     "output_type": "execute_result"
    }
   ],
   "source": [
    "meta_data.head()"
   ]
  },
  {
   "cell_type": "code",
   "execution_count": 9,
   "metadata": {},
   "outputs": [
    {
     "data": {
      "text/html": [
       "<div>\n",
       "<style scoped>\n",
       "    .dataframe tbody tr th:only-of-type {\n",
       "        vertical-align: middle;\n",
       "    }\n",
       "\n",
       "    .dataframe tbody tr th {\n",
       "        vertical-align: top;\n",
       "    }\n",
       "\n",
       "    .dataframe thead th {\n",
       "        text-align: right;\n",
       "    }\n",
       "</style>\n",
       "<table border=\"1\" class=\"dataframe\">\n",
       "  <thead>\n",
       "    <tr style=\"text-align: right;\">\n",
       "      <th></th>\n",
       "      <th>Grade</th>\n",
       "      <th>BraTS_2017_subject_ID</th>\n",
       "      <th>BraTS_2018_subject_ID</th>\n",
       "      <th>TCGA_TCIA_subject_ID</th>\n",
       "      <th>BraTS_2019_subject_ID</th>\n",
       "      <th>BraTS_2020_subject_ID</th>\n",
       "    </tr>\n",
       "  </thead>\n",
       "  <tbody>\n",
       "    <tr>\n",
       "      <th>0</th>\n",
       "      <td>HGG</td>\n",
       "      <td>Brats17_CBICA_AAB_1</td>\n",
       "      <td>Brats18_CBICA_AAB_1</td>\n",
       "      <td>NaN</td>\n",
       "      <td>BraTS19_CBICA_AAB_1</td>\n",
       "      <td>BraTS20_Training_001</td>\n",
       "    </tr>\n",
       "    <tr>\n",
       "      <th>1</th>\n",
       "      <td>HGG</td>\n",
       "      <td>Brats17_CBICA_AAG_1</td>\n",
       "      <td>Brats18_CBICA_AAG_1</td>\n",
       "      <td>NaN</td>\n",
       "      <td>BraTS19_CBICA_AAG_1</td>\n",
       "      <td>BraTS20_Training_002</td>\n",
       "    </tr>\n",
       "    <tr>\n",
       "      <th>2</th>\n",
       "      <td>HGG</td>\n",
       "      <td>Brats17_CBICA_AAL_1</td>\n",
       "      <td>Brats18_CBICA_AAL_1</td>\n",
       "      <td>NaN</td>\n",
       "      <td>BraTS19_CBICA_AAL_1</td>\n",
       "      <td>BraTS20_Training_003</td>\n",
       "    </tr>\n",
       "    <tr>\n",
       "      <th>3</th>\n",
       "      <td>HGG</td>\n",
       "      <td>Brats17_CBICA_AAP_1</td>\n",
       "      <td>Brats18_CBICA_AAP_1</td>\n",
       "      <td>NaN</td>\n",
       "      <td>BraTS19_CBICA_AAP_1</td>\n",
       "      <td>BraTS20_Training_004</td>\n",
       "    </tr>\n",
       "    <tr>\n",
       "      <th>4</th>\n",
       "      <td>HGG</td>\n",
       "      <td>Brats17_CBICA_ABB_1</td>\n",
       "      <td>Brats18_CBICA_ABB_1</td>\n",
       "      <td>NaN</td>\n",
       "      <td>BraTS19_CBICA_ABB_1</td>\n",
       "      <td>BraTS20_Training_005</td>\n",
       "    </tr>\n",
       "  </tbody>\n",
       "</table>\n",
       "</div>"
      ],
      "text/plain": [
       "  Grade BraTS_2017_subject_ID BraTS_2018_subject_ID TCGA_TCIA_subject_ID  \\\n",
       "0   HGG   Brats17_CBICA_AAB_1   Brats18_CBICA_AAB_1                  NaN   \n",
       "1   HGG   Brats17_CBICA_AAG_1   Brats18_CBICA_AAG_1                  NaN   \n",
       "2   HGG   Brats17_CBICA_AAL_1   Brats18_CBICA_AAL_1                  NaN   \n",
       "3   HGG   Brats17_CBICA_AAP_1   Brats18_CBICA_AAP_1                  NaN   \n",
       "4   HGG   Brats17_CBICA_ABB_1   Brats18_CBICA_ABB_1                  NaN   \n",
       "\n",
       "  BraTS_2019_subject_ID BraTS_2020_subject_ID  \n",
       "0   BraTS19_CBICA_AAB_1  BraTS20_Training_001  \n",
       "1   BraTS19_CBICA_AAG_1  BraTS20_Training_002  \n",
       "2   BraTS19_CBICA_AAL_1  BraTS20_Training_003  \n",
       "3   BraTS19_CBICA_AAP_1  BraTS20_Training_004  \n",
       "4   BraTS19_CBICA_ABB_1  BraTS20_Training_005  "
      ]
     },
     "execution_count": 9,
     "metadata": {},
     "output_type": "execute_result"
    }
   ],
   "source": [
    "name_mapping.head()"
   ]
  },
  {
   "cell_type": "code",
   "execution_count": 10,
   "metadata": {},
   "outputs": [
    {
     "data": {
      "text/html": [
       "<div>\n",
       "<style scoped>\n",
       "    .dataframe tbody tr th:only-of-type {\n",
       "        vertical-align: middle;\n",
       "    }\n",
       "\n",
       "    .dataframe tbody tr th {\n",
       "        vertical-align: top;\n",
       "    }\n",
       "\n",
       "    .dataframe thead th {\n",
       "        text-align: right;\n",
       "    }\n",
       "</style>\n",
       "<table border=\"1\" class=\"dataframe\">\n",
       "  <thead>\n",
       "    <tr style=\"text-align: right;\">\n",
       "      <th></th>\n",
       "      <th>Brats20ID</th>\n",
       "      <th>Age</th>\n",
       "      <th>Survival_days</th>\n",
       "      <th>Extent_of_Resection</th>\n",
       "    </tr>\n",
       "  </thead>\n",
       "  <tbody>\n",
       "    <tr>\n",
       "      <th>0</th>\n",
       "      <td>BraTS20_Training_001</td>\n",
       "      <td>60.463</td>\n",
       "      <td>289</td>\n",
       "      <td>GTR</td>\n",
       "    </tr>\n",
       "    <tr>\n",
       "      <th>1</th>\n",
       "      <td>BraTS20_Training_002</td>\n",
       "      <td>52.263</td>\n",
       "      <td>616</td>\n",
       "      <td>GTR</td>\n",
       "    </tr>\n",
       "    <tr>\n",
       "      <th>2</th>\n",
       "      <td>BraTS20_Training_003</td>\n",
       "      <td>54.301</td>\n",
       "      <td>464</td>\n",
       "      <td>GTR</td>\n",
       "    </tr>\n",
       "    <tr>\n",
       "      <th>3</th>\n",
       "      <td>BraTS20_Training_004</td>\n",
       "      <td>39.068</td>\n",
       "      <td>788</td>\n",
       "      <td>GTR</td>\n",
       "    </tr>\n",
       "    <tr>\n",
       "      <th>4</th>\n",
       "      <td>BraTS20_Training_005</td>\n",
       "      <td>68.493</td>\n",
       "      <td>465</td>\n",
       "      <td>GTR</td>\n",
       "    </tr>\n",
       "  </tbody>\n",
       "</table>\n",
       "</div>"
      ],
      "text/plain": [
       "              Brats20ID     Age Survival_days Extent_of_Resection\n",
       "0  BraTS20_Training_001  60.463           289                 GTR\n",
       "1  BraTS20_Training_002  52.263           616                 GTR\n",
       "2  BraTS20_Training_003  54.301           464                 GTR\n",
       "3  BraTS20_Training_004  39.068           788                 GTR\n",
       "4  BraTS20_Training_005  68.493           465                 GTR"
      ]
     },
     "execution_count": 10,
     "metadata": {},
     "output_type": "execute_result"
    }
   ],
   "source": [
    "survival_info.head()"
   ]
  },
  {
   "cell_type": "code",
   "execution_count": 11,
   "metadata": {},
   "outputs": [
    {
     "ename": "ImportError",
     "evalue": "matplotlib is required for plotting when the default backend \"matplotlib\" is selected.",
     "output_type": "error",
     "traceback": [
      "\u001b[0;31m---------------------------------------------------------------------------\u001b[0m",
      "\u001b[0;31mImportError\u001b[0m                               Traceback (most recent call last)",
      "\u001b[0;32m<ipython-input-11-7a139ebded82>\u001b[0m in \u001b[0;36m<module>\u001b[0;34m\u001b[0m\n\u001b[0;32m----> 1\u001b[0;31m \u001b[0msurvival_info\u001b[0m\u001b[0;34m.\u001b[0m\u001b[0mhist\u001b[0m\u001b[0;34m(\u001b[0m\u001b[0mcolumn\u001b[0m\u001b[0;34m=\u001b[0m\u001b[0;34m\"Survival_days\"\u001b[0m\u001b[0;34m)\u001b[0m\u001b[0;34m\u001b[0m\u001b[0;34m\u001b[0m\u001b[0m\n\u001b[0m",
      "\u001b[0;32m~/anaconda3/envs/dash/lib/python3.9/site-packages/pandas/plotting/_core.py\u001b[0m in \u001b[0;36mhist_frame\u001b[0;34m(data, column, by, grid, xlabelsize, xrot, ylabelsize, yrot, ax, sharex, sharey, figsize, layout, bins, backend, legend, **kwargs)\u001b[0m\n\u001b[1;32m    208\u001b[0m         \u001b[0;34m>>\u001b[0m\u001b[0;34m>\u001b[0m \u001b[0mhist\u001b[0m \u001b[0;34m=\u001b[0m \u001b[0mdf\u001b[0m\u001b[0;34m.\u001b[0m\u001b[0mhist\u001b[0m\u001b[0;34m(\u001b[0m\u001b[0mbins\u001b[0m\u001b[0;34m=\u001b[0m\u001b[0;36m3\u001b[0m\u001b[0;34m)\u001b[0m\u001b[0;34m\u001b[0m\u001b[0;34m\u001b[0m\u001b[0m\n\u001b[1;32m    209\u001b[0m     \"\"\"\n\u001b[0;32m--> 210\u001b[0;31m     \u001b[0mplot_backend\u001b[0m \u001b[0;34m=\u001b[0m \u001b[0m_get_plot_backend\u001b[0m\u001b[0;34m(\u001b[0m\u001b[0mbackend\u001b[0m\u001b[0;34m)\u001b[0m\u001b[0;34m\u001b[0m\u001b[0;34m\u001b[0m\u001b[0m\n\u001b[0m\u001b[1;32m    211\u001b[0m     return plot_backend.hist_frame(\n\u001b[1;32m    212\u001b[0m         \u001b[0mdata\u001b[0m\u001b[0;34m,\u001b[0m\u001b[0;34m\u001b[0m\u001b[0;34m\u001b[0m\u001b[0m\n",
      "\u001b[0;32m~/anaconda3/envs/dash/lib/python3.9/site-packages/pandas/plotting/_core.py\u001b[0m in \u001b[0;36m_get_plot_backend\u001b[0;34m(backend)\u001b[0m\n\u001b[1;32m   1784\u001b[0m             \u001b[0;32mimport\u001b[0m \u001b[0mpandas\u001b[0m\u001b[0;34m.\u001b[0m\u001b[0mplotting\u001b[0m\u001b[0;34m.\u001b[0m\u001b[0m_matplotlib\u001b[0m \u001b[0;32mas\u001b[0m \u001b[0mmodule\u001b[0m\u001b[0;34m\u001b[0m\u001b[0;34m\u001b[0m\u001b[0m\n\u001b[1;32m   1785\u001b[0m         \u001b[0;32mexcept\u001b[0m \u001b[0mImportError\u001b[0m\u001b[0;34m:\u001b[0m\u001b[0;34m\u001b[0m\u001b[0;34m\u001b[0m\u001b[0m\n\u001b[0;32m-> 1786\u001b[0;31m             raise ImportError(\n\u001b[0m\u001b[1;32m   1787\u001b[0m                 \u001b[0;34m\"matplotlib is required for plotting when the \"\u001b[0m\u001b[0;34m\u001b[0m\u001b[0;34m\u001b[0m\u001b[0m\n\u001b[1;32m   1788\u001b[0m                 \u001b[0;34m'default backend \"matplotlib\" is selected.'\u001b[0m\u001b[0;34m\u001b[0m\u001b[0;34m\u001b[0m\u001b[0m\n",
      "\u001b[0;31mImportError\u001b[0m: matplotlib is required for plotting when the default backend \"matplotlib\" is selected."
     ]
    }
   ],
   "source": [
    "survival_info.hist(column=\"Survival_days\")"
   ]
  },
  {
   "cell_type": "code",
   "execution_count": null,
   "metadata": {},
   "outputs": [],
   "source": []
  }
 ],
 "metadata": {
  "kernelspec": {
   "display_name": "Python [conda env:dash]",
   "language": "python",
   "name": "conda-env-dash-py"
  },
  "language_info": {
   "codemirror_mode": {
    "name": "ipython",
    "version": 3
   },
   "file_extension": ".py",
   "mimetype": "text/x-python",
   "name": "python",
   "nbconvert_exporter": "python",
   "pygments_lexer": "ipython3",
   "version": "3.9.1"
  }
 },
 "nbformat": 4,
 "nbformat_minor": 4
}
